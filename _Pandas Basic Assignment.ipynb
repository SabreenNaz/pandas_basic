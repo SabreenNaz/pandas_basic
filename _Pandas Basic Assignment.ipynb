{
 "cells": [
  {
   "cell_type": "markdown",
   "id": "847adbb7-db76-4977-981e-bb4bb638709c",
   "metadata": {},
   "source": [
    "Q1. Create a Pandas Series that contains the following data: 4, 8, 15, 16, 23, and 42. Then, print the series."
   ]
  },
  {
   "cell_type": "code",
   "execution_count": 6,
   "id": "1dbda8fc-8a4a-447f-ad95-a5be9ad0ea5a",
   "metadata": {},
   "outputs": [
    {
     "name": "stdout",
     "output_type": "stream",
     "text": [
      "0     4\n",
      "1     8\n",
      "2    15\n",
      "3    16\n",
      "4    23\n",
      "5    42\n",
      "dtype: int64\n"
     ]
    }
   ],
   "source": [
    "#Answer\n",
    "\n",
    "import pandas as pd\n",
    "data = [4, 8, 15, 16, 23,  42]\n",
    "series = pd.Series(data)\n",
    "print(series)"
   ]
  },
  {
   "cell_type": "markdown",
   "id": "d768ab2e-88b4-43b3-a1dd-6c72edbb4923",
   "metadata": {},
   "source": [
    "                      -------------------------------------------------------------------"
   ]
  },
  {
   "cell_type": "markdown",
   "id": "491180f2-5135-481c-9aa5-c7f7f6e92a5f",
   "metadata": {},
   "source": [
    "Q2. Create a variable of list type containing 10 elements in it, and apply pandas.Series function on the\n",
    "variable print it."
   ]
  },
  {
   "cell_type": "code",
   "execution_count": 8,
   "id": "83aa704a-fa4b-4e0c-9a2f-a27f0a2527f2",
   "metadata": {},
   "outputs": [
    {
     "name": "stdout",
     "output_type": "stream",
     "text": [
      "0    12\n",
      "1    34\n",
      "2    52\n",
      "3    18\n",
      "4     9\n",
      "5     5\n",
      "6    10\n",
      "7     9\n",
      "8    13\n",
      "9    59\n",
      "dtype: int64\n"
     ]
    }
   ],
   "source": [
    "#Answer\n",
    "\n",
    "import pandas as pd\n",
    "my_list = [12,34,52,18, 9, 5, 10, 9, 13, 59]\n",
    "my_series = pd.Series(my_list)\n",
    "print(my_series)"
   ]
  },
  {
   "cell_type": "markdown",
   "id": "61e7fe27-1fe2-442b-9990-ddf2b4958328",
   "metadata": {},
   "source": [
    "                      -------------------------------------------------------------------"
   ]
  },
  {
   "cell_type": "markdown",
   "id": "f062e0e0-ef37-46c8-b770-05624db33060",
   "metadata": {},
   "source": [
    "Q3. Create a Pandas DataFrame that contains the following data:\n",
    "\n",
    "Name : Alice, Bob, Claire\n",
    "\n",
    "Age : 25, 30, 27\n",
    "\n",
    "Gender : Female, Male, Female\n",
    "\n",
    "Then, print the DataFrame."
   ]
  },
  {
   "cell_type": "code",
   "execution_count": 15,
   "id": "c4a31648-0450-4cfb-939c-2fdc5b78a13c",
   "metadata": {},
   "outputs": [
    {
     "name": "stdout",
     "output_type": "stream",
     "text": [
      "     Name  Age  Gender\n",
      "0   Alice   25  Female\n",
      "1     Bob   30    Male\n",
      "2  Claire   27  Female\n"
     ]
    }
   ],
   "source": [
    "#Answer\n",
    "\n",
    "import pandas as pd\n",
    "data = { 'Name' : ['Alice', 'Bob', 'Claire'],\n",
    "          'Age'  : [25, 30, 27],\n",
    "          'Gender' : [ 'Female', 'Male', 'Female']\n",
    "}\n",
    "df = pd.DataFrame(data)\n",
    "print(df)"
   ]
  },
  {
   "cell_type": "markdown",
   "id": "ab68aa9b-06e7-48ba-9454-ab662e3c7fc2",
   "metadata": {},
   "source": [
    "                      -------------------------------------------------------------------"
   ]
  },
  {
   "cell_type": "markdown",
   "id": "b8a0d2ee-022e-4251-8221-1c6e22c75fbf",
   "metadata": {},
   "source": [
    "Q4. Which of the following is mutable in nature Series, DataFrame, Panel?"
   ]
  },
  {
   "cell_type": "markdown",
   "id": "815c1c34-5a8b-4093-b205-431ebcac62bc",
   "metadata": {},
   "source": [
    "#Answer\n",
    " DataFrame is mutable in nature.\n",
    "\n",
    "\"mutable\" refers to the ability to change, modify, or update an object after it has been created. In the context of pandas:\n",
    "\n",
    "Series: Series objects are considered immutable, meaning their contents cannot be changed after creation. You can create a new Series with modified values, but you can't directly modify the values within an existing Series.\n",
    "\n",
    "DataFrame: DataFrame objects are mutable. You can modify the data within a DataFrame by changing, adding, or deleting rows or columns.\n",
    "\n",
    "Panel: The Panel data structure has been deprecated in newer versions of pandas , and it's no longer recommended for general use. In modern pandas, multi-dimensional data can be efficiently handled using the more flexible and powerful MultiIndex DataFrame structure. However, for reference, Panel was also mutable."
   ]
  },
  {
   "cell_type": "markdown",
   "id": "cefbaf43-6ff9-49ad-b189-2a56c6f188e8",
   "metadata": {},
   "source": [
    "                      -------------------------------------------------------------------"
   ]
  },
  {
   "cell_type": "markdown",
   "id": "a840c733-6e35-4621-baa5-d43727cf516f",
   "metadata": {},
   "source": [
    "Q5. What is ‘DataFrame’ in pandas and how is it different from pandas.series? Explain with an example."
   ]
  },
  {
   "cell_type": "markdown",
   "id": "f830f17f-ec0c-4081-959a-384bce653259",
   "metadata": {},
   "source": [
    "#Answer\n",
    "\n",
    "In pandas, a DataFrame is a two-dimensional, size-mutable, and highly flexible data structure that is used to store and manipulate tabular data, such as data in a spreadsheet or a SQL table. It is one of the most commonly used data structures in pandas and is essentially a collection of Series objects.\n",
    "\n",
    "Here's how a DataFrame differs from a pandas Series:\n",
    "\n",
    "a) Dimensionality:\n",
    "\n",
    "* A Series is a one-dimensional data structure that stores a single column or one-dimensional array of data along with an index.\n",
    "* A DataFrame is a two-dimensional data structure that consists of multiple columns (Series), where each column can be of a different data type.\n",
    "\n",
    "2) Example:\n",
    "Let's illustrate the difference with an example. Suppose we have a dataset of students with two columns: \"Name\" and \"Age.\"\n",
    "\n",
    "Here's how we would represent it using a Series and a DataFrame:\n",
    "\n",
    "* Using a Series:____________"
   ]
  },
  {
   "cell_type": "code",
   "execution_count": 4,
   "id": "524f90e0-c2f5-4bef-bbea-99fec5825d3e",
   "metadata": {},
   "outputs": [
    {
     "name": "stdout",
     "output_type": "stream",
     "text": [
      "      Name  Age\n",
      "0  Sabreen   22\n",
      "1      Naz   21\n",
      "2   kouser   22\n",
      "3     Zoya   24\n",
      "4   Khanam   25\n"
     ]
    }
   ],
   "source": [
    "import pandas as pd\n",
    "\n",
    "# Create a Series for the \"Name\" column\n",
    "names = pd.Series([\"Sabreen\", \"Naz\", \"kouser\", \"Zoya\", \"Khanam\"])\n",
    "\n",
    "# Create another Series for the \"Age\" column\n",
    "ages = pd.Series([22, 21, 22, 24, 25])\n",
    "\n",
    "# Combine the two Series into a dictionary\n",
    "student_data = {\"Name\": names, \"Age\": ages}\n",
    "\n",
    "# Create a DataFrame from the dictionary\n",
    "df = pd.DataFrame(student_data)\n",
    "\n",
    "print(df)\n"
   ]
  },
  {
   "cell_type": "markdown",
   "id": "0114f161-b8d1-41f9-8e63-fe4092095a77",
   "metadata": {},
   "source": [
    "\n",
    "In the above example, we created two Series, one for names and one for ages, and then combined them into a DataFrame. The resulting DataFrame has two columns: \"Name\" and \"Age.\"\n",
    "\n",
    "3) Flexibility:\n",
    "\n",
    "DataFrames are more flexible than Series because they can store multiple columns with different data types, whereas a Series can only store a single column of data.\n",
    "\n",
    "4) Operations:\n",
    "\n",
    "we can perform operations on both Series and DataFrames, but with DataFrames, we can perform operations on entire columns or subsets of the data, which is particularly useful for data analysis and manipulation.\n",
    "\n",
    "In summary, while a Series is a one-dimensional data structure that can be thought of as a single column of data, a DataFrame is a two-dimensional data structure that can store multiple columns of data, making it more suitable for working with structured, tabular data.\n",
    "\n"
   ]
  },
  {
   "cell_type": "markdown",
   "id": "4bd56842-96dd-463e-9a53-abe5f7acc2c6",
   "metadata": {},
   "source": [
    "                       -------------------------------------------------------------------"
   ]
  },
  {
   "cell_type": "markdown",
   "id": "69c25bec-8ab9-42bd-a12b-0d906bd11f4b",
   "metadata": {},
   "source": [
    "Q6. What are some common functions you can use to manipulate data in a Pandas DataFrame? Can\n",
    "you give an example of when you might use one of these functions?"
   ]
  },
  {
   "cell_type": "markdown",
   "id": "773c6924-f997-4642-9881-c9e1ea9cd32b",
   "metadata": {},
   "source": [
    "\n",
    "#Answer\n",
    "\n",
    "\n",
    "Pandas provides a wide range of functions to manipulate data in a DataFrame. Some common functions include:\n",
    "\n",
    "1) Selection and Filtering:\n",
    "\n",
    "df['column_name'] or df.column_name: Select a specific column.\n",
    "\n",
    "df[['col1', 'col2']]: Select multiple columns.\n",
    "\n",
    "df[df['column_name'] > value]: Filter rows based on a condition.\n",
    "\n",
    "Example: To select the \"Age\" column from a DataFrame df, you can use df['Age'].\n",
    "\n",
    "2) Sorting:\n",
    "\n",
    "df.sort_values(by='column_name'): Sort the DataFrame based on a column.\n",
    "\n",
    "df.sort_values(by=['col1', 'col2']): Sort by multiple columns.\n",
    "\n",
    "df.sort_index(): Sort by row index.\n",
    "\n",
    "Example: To sort a DataFrame df by the \"Age\" column in ascending order, you can use df.sort_values(by='Age').\n",
    "\n",
    "3) Aggregation:\n",
    "\n",
    "df.groupby('grouping_column').agg({'aggregated_column': 'aggregation_function'}): Group data and perform aggregate operations.\n",
    "\n",
    "df['column_name'].mean(): Compute the mean of a column.\n",
    "\n",
    "df['column_name'].sum(): Compute the sum of a column.\n",
    "\n",
    "Example: To calculate the average age of students in a DataFrame df, you can use df['Age'].mean().\n",
    "\n",
    "4) Joining and Merging:\n",
    "\n",
    "pd.concat([df1, df2]): Concatenate DataFrames vertically or horizontally.\n",
    "\n",
    "pd.merge(df1, df2, on='key_column'): Merge two DataFrames based on a common column.\n",
    "\n",
    "Example: To combine two DataFrames df1 and df2 by concatenating them vertically, you can use pd.concat([df1, df2]).\n",
    "\n",
    "5) Data Cleaning:\n",
    "\n",
    "df.drop(['col1', 'col2'], axis=1): Remove columns.\n",
    "\n",
    "df.drop_duplicates(): Remove duplicate rows.\n",
    "\n",
    "df.fillna(value): Replace missing values.\n",
    "\n",
    "Example: To remove duplicate rows from a DataFrame df, you can use df.drop_duplicates().\n",
    "\n",
    "\n",
    "6) Statistical Summary:\n",
    "\n",
    "df.describe(): Get summary statistics for numerical columns.\n",
    "\n",
    "df['column_name'].value_counts(): Count unique values in a column.\n",
    "\n",
    "df.corr(): Compute the correlation matrix.\n",
    "\n",
    "Example: To obtain summary statistics for the numeric columns in a DataFrame df, you can use df.describe().\n",
    "\n",
    "These are just a few common functions for data manipulation in pandas DataFrames. The choice of which function to use depends on the specific data analysis or transformation task we are working on.\n",
    "\n",
    "\n",
    "\n",
    "\n"
   ]
  },
  {
   "cell_type": "markdown",
   "id": "c195c9bd-aba6-49ad-a195-6b541eb54fb2",
   "metadata": {},
   "source": [
    "                        -------------------------------------------------------------------"
   ]
  },
  {
   "cell_type": "markdown",
   "id": "fc83c1e6-108f-42a2-8f11-c2472658f4aa",
   "metadata": {},
   "source": [
    "Q7. Create a DataFrame using multiple Series. Explain with an example."
   ]
  },
  {
   "cell_type": "code",
   "execution_count": 5,
   "id": "6762b062-c3b2-418a-8145-c8c298381795",
   "metadata": {},
   "outputs": [
    {
     "name": "stdout",
     "output_type": "stream",
     "text": [
      "      Name  Age  Test_Score\n",
      "0    Alice   23          95\n",
      "1      Bob   21          88\n",
      "2  Charlie   22          78\n",
      "3    David   24          92\n",
      "4      Eve   25          89\n"
     ]
    }
   ],
   "source": [
    "#Answer\n",
    "\n",
    "import pandas as pd\n",
    "\n",
    "# Create Series with different data types\n",
    "names = pd.Series([\"Alice\", \"Bob\", \"Charlie\", \"David\", \"Eve\"])\n",
    "ages = pd.Series([23, 21, 22, 24, 25])\n",
    "scores = pd.Series([95, 88, 78, 92, 89])\n",
    "\n",
    "# Combine the Series into a dictionary\n",
    "data = {\n",
    "    \"Name\": names,\n",
    "    \"Age\": ages,\n",
    "    \"Test_Score\": scores\n",
    "}\n",
    "\n",
    "# Create a DataFrame from the dictionary\n",
    "df = pd.DataFrame(data)\n",
    "\n",
    "# Print the DataFrame\n",
    "print(df)\n"
   ]
  },
  {
   "cell_type": "markdown",
   "id": "489fb80e-bf1f-4863-87b8-c2410468afad",
   "metadata": {},
   "source": [
    "In this example, we have three Series: \"Name\" , \"Age\" and \"Test_Score\" . We combine these Series into a dictionary, and then we use the pd.DataFrame constructor to create a DataFrame. The resulting DataFrame df will look like the above output.\n",
    "\n",
    "Thus, we have created a DataFrame with three columns, each represented by a different Series with distinct data types. This is an example of creating a DataFrame using multiple Series with varying data types."
   ]
  },
  {
   "cell_type": "markdown",
   "id": "8a7a8795-249e-4d26-ab5d-edf88443fc9b",
   "metadata": {},
   "source": [
    "                        -------------------------------------------------------------------"
   ]
  }
 ],
 "metadata": {
  "kernelspec": {
   "display_name": "Python 3 (ipykernel)",
   "language": "python",
   "name": "python3"
  },
  "language_info": {
   "codemirror_mode": {
    "name": "ipython",
    "version": 3
   },
   "file_extension": ".py",
   "mimetype": "text/x-python",
   "name": "python",
   "nbconvert_exporter": "python",
   "pygments_lexer": "ipython3",
   "version": "3.10.8"
  }
 },
 "nbformat": 4,
 "nbformat_minor": 5
}
